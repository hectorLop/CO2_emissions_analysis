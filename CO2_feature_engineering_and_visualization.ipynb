{
 "cells": [
  {
   "cell_type": "code",
   "execution_count": 1,
   "metadata": {},
   "outputs": [],
   "source": [
    "from matplotlib import pyplot\n",
    "import matplotlib\n",
    "import pandas\n",
    "from CO2_data_collector import CO2DataCollector"
   ]
  },
  {
   "cell_type": "markdown",
   "metadata": {},
   "source": [
    "# Collect the data\n",
    "In this section we show how to collect the emissions data for a given time period"
   ]
  },
  {
   "cell_type": "code",
   "execution_count": 2,
   "metadata": {},
   "outputs": [],
   "source": [
    "collector = CO2DataCollector()"
   ]
  },
  {
   "cell_type": "code",
   "execution_count": 3,
   "metadata": {},
   "outputs": [],
   "source": [
    "# Collects the data between two boundaries dates\n",
    "collector.collect_data('2019-01-01', '2020-01-01')"
   ]
  },
  {
   "cell_type": "code",
   "execution_count": 4,
   "metadata": {},
   "outputs": [],
   "source": [
    "# Generates a CSV file with the collected data\n",
    "collector.generate_csv('Emissions_2019.csv')"
   ]
  },
  {
   "cell_type": "markdown",
   "metadata": {},
   "source": [
    "# Data Cleaning\n",
    "In this section we will perform some data cleaning since there are some corrupted data\n",
    "that needs to be cleaned to convert the Fecha's column from string to a datetime object"
   ]
  },
  {
   "cell_type": "code",
   "execution_count": 5,
   "metadata": {},
   "outputs": [],
   "source": [
    "dataset = pandas.read_csv('Emissions_2019.csv')"
   ]
  },
  {
   "cell_type": "code",
   "execution_count": 6,
   "metadata": {},
   "outputs": [
    {
     "name": "stdout",
     "output_type": "stream",
     "text": [
      "<class 'pandas.core.frame.DataFrame'>\n",
      "RangeIndex: 52560 entries, 0 to 52559\n",
      "Data columns (total 3 columns):\n",
      "Unnamed: 0    52560 non-null int64\n",
      "Fecha         52560 non-null object\n",
      "Emisiones     52560 non-null float64\n",
      "dtypes: float64(1), int64(1), object(1)\n",
      "memory usage: 1.2+ MB\n"
     ]
    }
   ],
   "source": [
    "dataset.info()"
   ]
  },
  {
   "cell_type": "markdown",
   "metadata": {},
   "source": [
    "Is there a problem with the data, on date 2019-10-27 on the interval from 02 to 03, it shows these values:\n",
    "- 2019-10-27 2A:00\n",
    "- 2019-10-27 2A:10\n",
    "- 2019-10-27 2A:20\n",
    "- 2019-10-27 2A:30\n",
    "- 2019-10-27 2A:40\n",
    "- 2019-10-27 2A:50\n",
    "- 2019-10-27 2B:00\n",
    "- 2019-10-27 2B:10\n",
    "- 2019-10-27 2B:20\n",
    "- 2019-10-27 2B:30\n",
    "- 2019-10-27 2B:40\n",
    "- 2019-10-27 2B:50\n",
    "\n",
    "**Solution:**\n",
    "- Drop rows which contain the letter 'B' in the Fecha's column\n",
    "- In the rows where the date contains the characters 2A, replace these with 02"
   ]
  },
  {
   "cell_type": "code",
   "execution_count": 7,
   "metadata": {},
   "outputs": [],
   "source": [
    "# Replace dates with 2A by 02\n",
    "dataset['Fecha'] = dataset['Fecha'].str.replace('2A', '02')\n",
    "# Use the NOT simbol (~) to return the dataset without these rows\n",
    "dataset = dataset[~dataset.Fecha.str.contains(\"2B\")]"
   ]
  },
  {
   "cell_type": "code",
   "execution_count": 8,
   "metadata": {},
   "outputs": [
    {
     "name": "stdout",
     "output_type": "stream",
     "text": [
      "<class 'pandas.core.frame.DataFrame'>\n",
      "Int64Index: 52554 entries, 0 to 52559\n",
      "Data columns (total 3 columns):\n",
      "Unnamed: 0    52554 non-null int64\n",
      "Fecha         52554 non-null object\n",
      "Emisiones     52554 non-null float64\n",
      "dtypes: float64(1), int64(1), object(1)\n",
      "memory usage: 1.6+ MB\n"
     ]
    }
   ],
   "source": [
    "dataset.info()"
   ]
  },
  {
   "cell_type": "markdown",
   "metadata": {},
   "source": [
    "The number of instances now is 52554, so 6 rows have been removed"
   ]
  },
  {
   "cell_type": "code",
   "execution_count": 9,
   "metadata": {},
   "outputs": [],
   "source": [
    "# Convert the column into a datetime object, the method detects the format automatically, if it does not, it can be custom formatted\n",
    "dataset['Fecha'] = pandas.to_datetime(dataset['Fecha'])"
   ]
  },
  {
   "cell_type": "code",
   "execution_count": 10,
   "metadata": {},
   "outputs": [
    {
     "name": "stdout",
     "output_type": "stream",
     "text": [
      "<class 'pandas.core.frame.DataFrame'>\n",
      "Int64Index: 52554 entries, 0 to 52559\n",
      "Data columns (total 3 columns):\n",
      "Unnamed: 0    52554 non-null int64\n",
      "Fecha         52554 non-null datetime64[ns]\n",
      "Emisiones     52554 non-null float64\n",
      "dtypes: datetime64[ns](1), float64(1), int64(1)\n",
      "memory usage: 1.6 MB\n"
     ]
    }
   ],
   "source": [
    "dataset.info()"
   ]
  },
  {
   "cell_type": "markdown",
   "metadata": {},
   "source": [
    "Now the 'Fecha' column is a datetime object"
   ]
  },
  {
   "cell_type": "code",
   "execution_count": 12,
   "metadata": {},
   "outputs": [],
   "source": [
    "# Creates a new CSV with no data errors\n",
    "dataset.to_csv(\"2019_Emissions_Clean.csv\")"
   ]
  }
 ],
 "metadata": {
  "kernelspec": {
   "display_name": "Python 3",
   "language": "python",
   "name": "python3"
  },
  "language_info": {
   "codemirror_mode": {
    "name": "ipython",
    "version": 3
   },
   "file_extension": ".py",
   "mimetype": "text/x-python",
   "name": "python",
   "nbconvert_exporter": "python",
   "pygments_lexer": "ipython3",
   "version": "3.7.4"
  }
 },
 "nbformat": 4,
 "nbformat_minor": 4
}
