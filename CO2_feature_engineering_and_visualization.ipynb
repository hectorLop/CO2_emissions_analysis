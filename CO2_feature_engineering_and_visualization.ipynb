{
 "cells": [
  {
   "cell_type": "code",
   "execution_count": 29,
   "metadata": {},
   "outputs": [],
   "source": [
    "from matplotlib import pyplot\n",
    "import matplotlib\n",
    "import pandas\n",
    "from CO2_data_collector import CO2DataCollector\n",
    "from fbprophet import Prophet\n",
    "from statsmodels.tsa.seasonal import seasonal_decompose\n",
    "import CO2_pre_processing as pre\n",
    "from pylab import rcParams"
   ]
  },
  {
   "cell_type": "markdown",
   "metadata": {},
   "source": [
    "# Collect the data\n",
    "In this section we show how to collect the emissions data for a given time period"
   ]
  },
  {
   "cell_type": "code",
   "execution_count": 3,
   "metadata": {},
   "outputs": [],
   "source": [
    "collector = CO2DataCollector()"
   ]
  },
  {
   "cell_type": "code",
   "execution_count": 4,
   "metadata": {},
   "outputs": [],
   "source": [
    "# Collects the data between two boundaries dates\n",
    "collector.collect_data('2017-01-01', '2020-01-01')"
   ]
  },
  {
   "cell_type": "code",
   "execution_count": 5,
   "metadata": {},
   "outputs": [],
   "source": [
    "# Generates a CSV file with the collected data\n",
    "collector.generate_csv('Emissions_2018-2020.csv')"
   ]
  },
  {
   "cell_type": "markdown",
   "metadata": {},
   "source": [
    "# Data Cleaning\n",
    "In this section we will perform some data cleaning since there are some corrupted data\n",
    "that needs to be cleaned to convert the Fecha's column from string to a datetime object"
   ]
  },
  {
   "cell_type": "code",
   "execution_count": 2,
   "metadata": {},
   "outputs": [],
   "source": [
    "dataset = pandas.read_csv('Emissions_2018-2020.csv')"
   ]
  },
  {
   "cell_type": "code",
   "execution_count": 3,
   "metadata": {},
   "outputs": [
    {
     "name": "stdout",
     "output_type": "stream",
     "text": [
      "<class 'pandas.core.frame.DataFrame'>\n",
      "RangeIndex: 157680 entries, 0 to 157679\n",
      "Data columns (total 3 columns):\n",
      " #   Column      Non-Null Count   Dtype  \n",
      "---  ------      --------------   -----  \n",
      " 0   Unnamed: 0  157680 non-null  int64  \n",
      " 1   Fecha       157680 non-null  object \n",
      " 2   Emisiones   157680 non-null  float64\n",
      "dtypes: float64(1), int64(1), object(1)\n",
      "memory usage: 3.6+ MB\n"
     ]
    }
   ],
   "source": [
    "dataset.info()"
   ]
  },
  {
   "cell_type": "markdown",
   "metadata": {},
   "source": [
    "Is there a problem with the data, on certain dates on the interval from 02 to 03, where there are corrupted hours like the following ones:\n",
    "- 2019-10-27 2A:00\n",
    "- 2019-10-27 2A:10\n",
    "- 2019-10-27 2A:20\n",
    "- 2019-10-27 2A:30\n",
    "- 2019-10-27 2A:40\n",
    "- 2019-10-27 2A:50\n",
    "- 2019-10-27 2B:00\n",
    "- 2019-10-27 2B:10\n",
    "- 2019-10-27 2B:20\n",
    "- 2019-10-27 2B:30\n",
    "- 2019-10-27 2B:40\n",
    "- 2019-10-27 2B:50\n",
    "\n",
    "**Solution:**\n",
    "- Drop rows which contain the letter 'B' in the Fecha's column\n",
    "- In the rows where the date contains the characters 2A, replace these with 02"
   ]
  },
  {
   "cell_type": "code",
   "execution_count": 4,
   "metadata": {},
   "outputs": [
    {
     "data": {
      "text/html": [
       "<div>\n",
       "<style scoped>\n",
       "    .dataframe tbody tr th:only-of-type {\n",
       "        vertical-align: middle;\n",
       "    }\n",
       "\n",
       "    .dataframe tbody tr th {\n",
       "        vertical-align: top;\n",
       "    }\n",
       "\n",
       "    .dataframe thead th {\n",
       "        text-align: right;\n",
       "    }\n",
       "</style>\n",
       "<table border=\"1\" class=\"dataframe\">\n",
       "  <thead>\n",
       "    <tr style=\"text-align: right;\">\n",
       "      <th></th>\n",
       "      <th>Unnamed: 0</th>\n",
       "      <th>Fecha</th>\n",
       "      <th>Emisiones</th>\n",
       "    </tr>\n",
       "  </thead>\n",
       "  <tbody>\n",
       "    <tr>\n",
       "      <th>0</th>\n",
       "      <td>0</td>\n",
       "      <td>2016-12-31 21:00</td>\n",
       "      <td>9659.81</td>\n",
       "    </tr>\n",
       "    <tr>\n",
       "      <th>1</th>\n",
       "      <td>1</td>\n",
       "      <td>2016-12-31 21:10</td>\n",
       "      <td>9627.94</td>\n",
       "    </tr>\n",
       "    <tr>\n",
       "      <th>2</th>\n",
       "      <td>2</td>\n",
       "      <td>2016-12-31 22:30</td>\n",
       "      <td>9407.57</td>\n",
       "    </tr>\n",
       "    <tr>\n",
       "      <th>3</th>\n",
       "      <td>3</td>\n",
       "      <td>2016-12-31 21:20</td>\n",
       "      <td>9562.48</td>\n",
       "    </tr>\n",
       "    <tr>\n",
       "      <th>4</th>\n",
       "      <td>4</td>\n",
       "      <td>2016-12-31 21:30</td>\n",
       "      <td>9545.36</td>\n",
       "    </tr>\n",
       "  </tbody>\n",
       "</table>\n",
       "</div>"
      ],
      "text/plain": [
       "   Unnamed: 0             Fecha  Emisiones\n",
       "0           0  2016-12-31 21:00    9659.81\n",
       "1           1  2016-12-31 21:10    9627.94\n",
       "2           2  2016-12-31 22:30    9407.57\n",
       "3           3  2016-12-31 21:20    9562.48\n",
       "4           4  2016-12-31 21:30    9545.36"
      ]
     },
     "execution_count": 4,
     "metadata": {},
     "output_type": "execute_result"
    }
   ],
   "source": [
    "dataset.head()"
   ]
  },
  {
   "cell_type": "code",
   "execution_count": 5,
   "metadata": {},
   "outputs": [],
   "source": [
    "# Drop the Unnamed: 0 column\n",
    "if 'Unnamed: 0' in dataset.columns:\n",
    "    dataset = dataset.drop(['Unnamed: 0'], axis=1)"
   ]
  },
  {
   "cell_type": "code",
   "execution_count": 6,
   "metadata": {},
   "outputs": [],
   "source": [
    "# Replace dates with 2A by 02\n",
    "dataset['Fecha'] = dataset['Fecha'].str.replace('2A', '02')\n",
    "# Use the NOT simbol (~) to return the dataset without these rows\n",
    "dataset = dataset[~dataset.Fecha.str.contains(\"2B\")]"
   ]
  },
  {
   "cell_type": "code",
   "execution_count": 7,
   "metadata": {},
   "outputs": [
    {
     "data": {
      "text/html": [
       "<div>\n",
       "<style scoped>\n",
       "    .dataframe tbody tr th:only-of-type {\n",
       "        vertical-align: middle;\n",
       "    }\n",
       "\n",
       "    .dataframe tbody tr th {\n",
       "        vertical-align: top;\n",
       "    }\n",
       "\n",
       "    .dataframe thead th {\n",
       "        text-align: right;\n",
       "    }\n",
       "</style>\n",
       "<table border=\"1\" class=\"dataframe\">\n",
       "  <thead>\n",
       "    <tr style=\"text-align: right;\">\n",
       "      <th></th>\n",
       "      <th>Fecha</th>\n",
       "      <th>Emisiones</th>\n",
       "    </tr>\n",
       "  </thead>\n",
       "  <tbody>\n",
       "    <tr>\n",
       "      <th>0</th>\n",
       "      <td>2016-12-31 21:00</td>\n",
       "      <td>9659.81</td>\n",
       "    </tr>\n",
       "    <tr>\n",
       "      <th>1</th>\n",
       "      <td>2016-12-31 21:10</td>\n",
       "      <td>9627.94</td>\n",
       "    </tr>\n",
       "    <tr>\n",
       "      <th>2</th>\n",
       "      <td>2016-12-31 22:30</td>\n",
       "      <td>9407.57</td>\n",
       "    </tr>\n",
       "    <tr>\n",
       "      <th>3</th>\n",
       "      <td>2016-12-31 21:20</td>\n",
       "      <td>9562.48</td>\n",
       "    </tr>\n",
       "    <tr>\n",
       "      <th>4</th>\n",
       "      <td>2016-12-31 21:30</td>\n",
       "      <td>9545.36</td>\n",
       "    </tr>\n",
       "    <tr>\n",
       "      <th>5</th>\n",
       "      <td>2016-12-31 21:50</td>\n",
       "      <td>9442.41</td>\n",
       "    </tr>\n",
       "    <tr>\n",
       "      <th>6</th>\n",
       "      <td>2016-12-31 22:10</td>\n",
       "      <td>9514.21</td>\n",
       "    </tr>\n",
       "    <tr>\n",
       "      <th>7</th>\n",
       "      <td>2016-12-31 21:40</td>\n",
       "      <td>9494.49</td>\n",
       "    </tr>\n",
       "    <tr>\n",
       "      <th>8</th>\n",
       "      <td>2016-12-31 22:20</td>\n",
       "      <td>9448.20</td>\n",
       "    </tr>\n",
       "    <tr>\n",
       "      <th>9</th>\n",
       "      <td>2016-12-31 22:00</td>\n",
       "      <td>9420.89</td>\n",
       "    </tr>\n",
       "  </tbody>\n",
       "</table>\n",
       "</div>"
      ],
      "text/plain": [
       "              Fecha  Emisiones\n",
       "0  2016-12-31 21:00    9659.81\n",
       "1  2016-12-31 21:10    9627.94\n",
       "2  2016-12-31 22:30    9407.57\n",
       "3  2016-12-31 21:20    9562.48\n",
       "4  2016-12-31 21:30    9545.36\n",
       "5  2016-12-31 21:50    9442.41\n",
       "6  2016-12-31 22:10    9514.21\n",
       "7  2016-12-31 21:40    9494.49\n",
       "8  2016-12-31 22:20    9448.20\n",
       "9  2016-12-31 22:00    9420.89"
      ]
     },
     "execution_count": 7,
     "metadata": {},
     "output_type": "execute_result"
    }
   ],
   "source": [
    "dataset.head(10)"
   ]
  },
  {
   "cell_type": "markdown",
   "metadata": {},
   "source": [
    "As we can see the dataset is unordered, so in order to sort it we must perform the following tasks:\n",
    "- Convert the Datetime column 'Fecha' to a datetime object\n",
    "- Set the Datetime column as the Index\n",
    "- Sort the dataset by index"
   ]
  },
  {
   "cell_type": "code",
   "execution_count": 8,
   "metadata": {},
   "outputs": [],
   "source": [
    "# Converts 'Fecha' to datetime object\n",
    "dataset['Fecha'] = pandas.to_datetime(dataset['Fecha'])\n",
    "# Sets the 'Fecha' column as index\n",
    "dataset = dataset.set_index('Fecha')\n",
    "# Sort the dataset by index\n",
    "dataset = dataset.sort_index()"
   ]
  },
  {
   "cell_type": "code",
   "execution_count": 9,
   "metadata": {},
   "outputs": [
    {
     "data": {
      "text/html": [
       "<div>\n",
       "<style scoped>\n",
       "    .dataframe tbody tr th:only-of-type {\n",
       "        vertical-align: middle;\n",
       "    }\n",
       "\n",
       "    .dataframe tbody tr th {\n",
       "        vertical-align: top;\n",
       "    }\n",
       "\n",
       "    .dataframe thead th {\n",
       "        text-align: right;\n",
       "    }\n",
       "</style>\n",
       "<table border=\"1\" class=\"dataframe\">\n",
       "  <thead>\n",
       "    <tr style=\"text-align: right;\">\n",
       "      <th></th>\n",
       "      <th>Emisiones</th>\n",
       "    </tr>\n",
       "    <tr>\n",
       "      <th>Fecha</th>\n",
       "      <th></th>\n",
       "    </tr>\n",
       "  </thead>\n",
       "  <tbody>\n",
       "    <tr>\n",
       "      <th>2016-12-31 21:00:00</th>\n",
       "      <td>9659.81</td>\n",
       "    </tr>\n",
       "    <tr>\n",
       "      <th>2016-12-31 21:10:00</th>\n",
       "      <td>9627.94</td>\n",
       "    </tr>\n",
       "    <tr>\n",
       "      <th>2016-12-31 21:20:00</th>\n",
       "      <td>9562.48</td>\n",
       "    </tr>\n",
       "    <tr>\n",
       "      <th>2016-12-31 21:30:00</th>\n",
       "      <td>9545.36</td>\n",
       "    </tr>\n",
       "    <tr>\n",
       "      <th>2016-12-31 21:40:00</th>\n",
       "      <td>9494.49</td>\n",
       "    </tr>\n",
       "  </tbody>\n",
       "</table>\n",
       "</div>"
      ],
      "text/plain": [
       "                     Emisiones\n",
       "Fecha                         \n",
       "2016-12-31 21:00:00    9659.81\n",
       "2016-12-31 21:10:00    9627.94\n",
       "2016-12-31 21:20:00    9562.48\n",
       "2016-12-31 21:30:00    9545.36\n",
       "2016-12-31 21:40:00    9494.49"
      ]
     },
     "execution_count": 9,
     "metadata": {},
     "output_type": "execute_result"
    }
   ],
   "source": [
    "dataset.head()"
   ]
  },
  {
   "cell_type": "markdown",
   "metadata": {},
   "source": [
    "## Creation of alternative dataset\n",
    "We will create an alternative dataset where the difference between timestamps is one hour, so the emissions will be grouped by hours"
   ]
  },
  {
   "cell_type": "code",
   "execution_count": 10,
   "metadata": {},
   "outputs": [],
   "source": [
    "# Cretes the new dataset\n",
    "dataset_freq_1hour = pre.create_dataset_timefreq_1hour(dataset)"
   ]
  },
  {
   "cell_type": "code",
   "execution_count": 11,
   "metadata": {},
   "outputs": [
    {
     "data": {
      "text/html": [
       "<div>\n",
       "<style scoped>\n",
       "    .dataframe tbody tr th:only-of-type {\n",
       "        vertical-align: middle;\n",
       "    }\n",
       "\n",
       "    .dataframe tbody tr th {\n",
       "        vertical-align: top;\n",
       "    }\n",
       "\n",
       "    .dataframe thead th {\n",
       "        text-align: right;\n",
       "    }\n",
       "</style>\n",
       "<table border=\"1\" class=\"dataframe\">\n",
       "  <thead>\n",
       "    <tr style=\"text-align: right;\">\n",
       "      <th></th>\n",
       "      <th>Fecha</th>\n",
       "      <th>Emisiones</th>\n",
       "    </tr>\n",
       "  </thead>\n",
       "  <tbody>\n",
       "    <tr>\n",
       "      <th>0</th>\n",
       "      <td>2016-12-31 21:00:00</td>\n",
       "      <td>57332.49</td>\n",
       "    </tr>\n",
       "    <tr>\n",
       "      <th>1</th>\n",
       "      <td>2016-12-31 22:00:00</td>\n",
       "      <td>56671.33</td>\n",
       "    </tr>\n",
       "    <tr>\n",
       "      <th>2</th>\n",
       "      <td>2016-12-31 23:00:00</td>\n",
       "      <td>57666.70</td>\n",
       "    </tr>\n",
       "    <tr>\n",
       "      <th>3</th>\n",
       "      <td>2017-01-01 00:00:00</td>\n",
       "      <td>57684.04</td>\n",
       "    </tr>\n",
       "    <tr>\n",
       "      <th>4</th>\n",
       "      <td>2017-01-01 01:00:00</td>\n",
       "      <td>56670.97</td>\n",
       "    </tr>\n",
       "    <tr>\n",
       "      <th>5</th>\n",
       "      <td>2017-01-01 02:00:00</td>\n",
       "      <td>53940.48</td>\n",
       "    </tr>\n",
       "    <tr>\n",
       "      <th>6</th>\n",
       "      <td>2017-01-01 03:00:00</td>\n",
       "      <td>51843.22</td>\n",
       "    </tr>\n",
       "    <tr>\n",
       "      <th>7</th>\n",
       "      <td>2017-01-01 04:00:00</td>\n",
       "      <td>50390.88</td>\n",
       "    </tr>\n",
       "    <tr>\n",
       "      <th>8</th>\n",
       "      <td>2017-01-01 05:00:00</td>\n",
       "      <td>49331.71</td>\n",
       "    </tr>\n",
       "    <tr>\n",
       "      <th>9</th>\n",
       "      <td>2017-01-01 06:00:00</td>\n",
       "      <td>48633.39</td>\n",
       "    </tr>\n",
       "  </tbody>\n",
       "</table>\n",
       "</div>"
      ],
      "text/plain": [
       "                Fecha  Emisiones\n",
       "0 2016-12-31 21:00:00   57332.49\n",
       "1 2016-12-31 22:00:00   56671.33\n",
       "2 2016-12-31 23:00:00   57666.70\n",
       "3 2017-01-01 00:00:00   57684.04\n",
       "4 2017-01-01 01:00:00   56670.97\n",
       "5 2017-01-01 02:00:00   53940.48\n",
       "6 2017-01-01 03:00:00   51843.22\n",
       "7 2017-01-01 04:00:00   50390.88\n",
       "8 2017-01-01 05:00:00   49331.71\n",
       "9 2017-01-01 06:00:00   48633.39"
      ]
     },
     "execution_count": 11,
     "metadata": {},
     "output_type": "execute_result"
    }
   ],
   "source": [
    "dataset_freq_1hour.head(10)"
   ]
  },
  {
   "cell_type": "markdown",
   "metadata": {},
   "source": [
    "## CSV Creation\n",
    "Now we will create two csv files to store the cleaned dataset. In the first dataset, the difference between timestamps is one hour, while in the second the difference is ten minutes"
   ]
  },
  {
   "cell_type": "code",
   "execution_count": 17,
   "metadata": {},
   "outputs": [
    {
     "data": {
      "text/html": [
       "<div>\n",
       "<style scoped>\n",
       "    .dataframe tbody tr th:only-of-type {\n",
       "        vertical-align: middle;\n",
       "    }\n",
       "\n",
       "    .dataframe tbody tr th {\n",
       "        vertical-align: top;\n",
       "    }\n",
       "\n",
       "    .dataframe thead th {\n",
       "        text-align: right;\n",
       "    }\n",
       "</style>\n",
       "<table border=\"1\" class=\"dataframe\">\n",
       "  <thead>\n",
       "    <tr style=\"text-align: right;\">\n",
       "      <th></th>\n",
       "      <th>Emisiones</th>\n",
       "    </tr>\n",
       "    <tr>\n",
       "      <th>Fecha</th>\n",
       "      <th></th>\n",
       "    </tr>\n",
       "  </thead>\n",
       "  <tbody>\n",
       "    <tr>\n",
       "      <th>2016-12-31 21:00:00</th>\n",
       "      <td>9659.81</td>\n",
       "    </tr>\n",
       "    <tr>\n",
       "      <th>2016-12-31 21:10:00</th>\n",
       "      <td>9627.94</td>\n",
       "    </tr>\n",
       "    <tr>\n",
       "      <th>2016-12-31 21:20:00</th>\n",
       "      <td>9562.48</td>\n",
       "    </tr>\n",
       "    <tr>\n",
       "      <th>2016-12-31 21:30:00</th>\n",
       "      <td>9545.36</td>\n",
       "    </tr>\n",
       "    <tr>\n",
       "      <th>2016-12-31 21:40:00</th>\n",
       "      <td>9494.49</td>\n",
       "    </tr>\n",
       "  </tbody>\n",
       "</table>\n",
       "</div>"
      ],
      "text/plain": [
       "                     Emisiones\n",
       "Fecha                         \n",
       "2016-12-31 21:00:00    9659.81\n",
       "2016-12-31 21:10:00    9627.94\n",
       "2016-12-31 21:20:00    9562.48\n",
       "2016-12-31 21:30:00    9545.36\n",
       "2016-12-31 21:40:00    9494.49"
      ]
     },
     "execution_count": 17,
     "metadata": {},
     "output_type": "execute_result"
    }
   ],
   "source": [
    "dataset.head()"
   ]
  },
  {
   "cell_type": "markdown",
   "metadata": {},
   "source": [
    "**Creates 1 hour difference CSV**"
   ]
  },
  {
   "cell_type": "code",
   "execution_count": 13,
   "metadata": {},
   "outputs": [],
   "source": [
    "# Creates a new CSV with no data errors and ordered rows by date\n",
    "dataset_freq_1hour.to_csv(\"2017-2020_Emissions_by_hour_Clean.csv\", index=False)"
   ]
  },
  {
   "cell_type": "markdown",
   "metadata": {},
   "source": [
    "**Creates 10 minutes difference CSV**"
   ]
  },
  {
   "cell_type": "code",
   "execution_count": 14,
   "metadata": {},
   "outputs": [],
   "source": [
    "# Creates a new CSV with no data errors and ordered rows by date\n",
    "dataset.to_csv(\"2017-2020_Emissions_by_10_minutes_Clean.csv\")"
   ]
  },
  {
   "cell_type": "markdown",
   "metadata": {},
   "source": [
    "# Data Analysis"
   ]
  },
  {
   "cell_type": "code",
   "execution_count": 3,
   "metadata": {},
   "outputs": [],
   "source": [
    "# Read both csv files\n",
    "dataset_by_10_minutes = pandas.read_csv('2017-2020_Emissions_by_10_minutes_Clean.csv')\n",
    "dataset_by_hour = pandas.read_csv('2017-2020_Emissions_by_hour_Clean.csv')"
   ]
  },
  {
   "cell_type": "markdown",
   "metadata": {},
   "source": [
    "CSV files cannot cannot save datetime objects and saves the rows unordered, so each time we read a CSV file, we must\n",
    "to perform the following tasks:\n",
    "- Convert 'Fecha' column to datetime object\n",
    "- Set 'Fecha' column as the new index\n",
    "- Sort the dataset by DateTime Index"
   ]
  },
  {
   "cell_type": "code",
   "execution_count": 5,
   "metadata": {},
   "outputs": [],
   "source": [
    "# This function perform the tasks above\n",
    "dataset_by_10_minutes = pre.prepare_timeseries_dataset(dataset_by_10_minutes, 0)\n",
    "dataset_by_hour = pre.prepare_timeseries_dataset(dataset_by_hour, 0)"
   ]
  },
  {
   "cell_type": "code",
   "execution_count": 6,
   "metadata": {},
   "outputs": [
    {
     "data": {
      "text/html": [
       "<div>\n",
       "<style scoped>\n",
       "    .dataframe tbody tr th:only-of-type {\n",
       "        vertical-align: middle;\n",
       "    }\n",
       "\n",
       "    .dataframe tbody tr th {\n",
       "        vertical-align: top;\n",
       "    }\n",
       "\n",
       "    .dataframe thead th {\n",
       "        text-align: right;\n",
       "    }\n",
       "</style>\n",
       "<table border=\"1\" class=\"dataframe\">\n",
       "  <thead>\n",
       "    <tr style=\"text-align: right;\">\n",
       "      <th></th>\n",
       "      <th>Emisiones</th>\n",
       "    </tr>\n",
       "    <tr>\n",
       "      <th>Fecha</th>\n",
       "      <th></th>\n",
       "    </tr>\n",
       "  </thead>\n",
       "  <tbody>\n",
       "    <tr>\n",
       "      <th>2016-12-31 21:00:00</th>\n",
       "      <td>9659.81</td>\n",
       "    </tr>\n",
       "    <tr>\n",
       "      <th>2016-12-31 21:10:00</th>\n",
       "      <td>9627.94</td>\n",
       "    </tr>\n",
       "    <tr>\n",
       "      <th>2016-12-31 21:20:00</th>\n",
       "      <td>9562.48</td>\n",
       "    </tr>\n",
       "    <tr>\n",
       "      <th>2016-12-31 21:30:00</th>\n",
       "      <td>9545.36</td>\n",
       "    </tr>\n",
       "    <tr>\n",
       "      <th>2016-12-31 21:40:00</th>\n",
       "      <td>9494.49</td>\n",
       "    </tr>\n",
       "    <tr>\n",
       "      <th>2016-12-31 21:50:00</th>\n",
       "      <td>9442.41</td>\n",
       "    </tr>\n",
       "    <tr>\n",
       "      <th>2016-12-31 22:00:00</th>\n",
       "      <td>9420.89</td>\n",
       "    </tr>\n",
       "    <tr>\n",
       "      <th>2016-12-31 22:10:00</th>\n",
       "      <td>9514.21</td>\n",
       "    </tr>\n",
       "    <tr>\n",
       "      <th>2016-12-31 22:20:00</th>\n",
       "      <td>9448.20</td>\n",
       "    </tr>\n",
       "    <tr>\n",
       "      <th>2016-12-31 22:30:00</th>\n",
       "      <td>9407.57</td>\n",
       "    </tr>\n",
       "  </tbody>\n",
       "</table>\n",
       "</div>"
      ],
      "text/plain": [
       "                     Emisiones\n",
       "Fecha                         \n",
       "2016-12-31 21:00:00    9659.81\n",
       "2016-12-31 21:10:00    9627.94\n",
       "2016-12-31 21:20:00    9562.48\n",
       "2016-12-31 21:30:00    9545.36\n",
       "2016-12-31 21:40:00    9494.49\n",
       "2016-12-31 21:50:00    9442.41\n",
       "2016-12-31 22:00:00    9420.89\n",
       "2016-12-31 22:10:00    9514.21\n",
       "2016-12-31 22:20:00    9448.20\n",
       "2016-12-31 22:30:00    9407.57"
      ]
     },
     "execution_count": 6,
     "metadata": {},
     "output_type": "execute_result"
    }
   ],
   "source": [
    "dataset_by_10_minutes.head(10)"
   ]
  },
  {
   "cell_type": "code",
   "execution_count": 7,
   "metadata": {},
   "outputs": [
    {
     "data": {
      "text/html": [
       "<div>\n",
       "<style scoped>\n",
       "    .dataframe tbody tr th:only-of-type {\n",
       "        vertical-align: middle;\n",
       "    }\n",
       "\n",
       "    .dataframe tbody tr th {\n",
       "        vertical-align: top;\n",
       "    }\n",
       "\n",
       "    .dataframe thead th {\n",
       "        text-align: right;\n",
       "    }\n",
       "</style>\n",
       "<table border=\"1\" class=\"dataframe\">\n",
       "  <thead>\n",
       "    <tr style=\"text-align: right;\">\n",
       "      <th></th>\n",
       "      <th>Emisiones</th>\n",
       "    </tr>\n",
       "    <tr>\n",
       "      <th>Fecha</th>\n",
       "      <th></th>\n",
       "    </tr>\n",
       "  </thead>\n",
       "  <tbody>\n",
       "    <tr>\n",
       "      <th>2016-12-31 21:00:00</th>\n",
       "      <td>57332.49</td>\n",
       "    </tr>\n",
       "    <tr>\n",
       "      <th>2016-12-31 22:00:00</th>\n",
       "      <td>56671.33</td>\n",
       "    </tr>\n",
       "    <tr>\n",
       "      <th>2016-12-31 23:00:00</th>\n",
       "      <td>57666.70</td>\n",
       "    </tr>\n",
       "    <tr>\n",
       "      <th>2017-01-01 00:00:00</th>\n",
       "      <td>57684.04</td>\n",
       "    </tr>\n",
       "    <tr>\n",
       "      <th>2017-01-01 01:00:00</th>\n",
       "      <td>56670.97</td>\n",
       "    </tr>\n",
       "    <tr>\n",
       "      <th>2017-01-01 02:00:00</th>\n",
       "      <td>53940.48</td>\n",
       "    </tr>\n",
       "    <tr>\n",
       "      <th>2017-01-01 03:00:00</th>\n",
       "      <td>51843.22</td>\n",
       "    </tr>\n",
       "    <tr>\n",
       "      <th>2017-01-01 04:00:00</th>\n",
       "      <td>50390.88</td>\n",
       "    </tr>\n",
       "    <tr>\n",
       "      <th>2017-01-01 05:00:00</th>\n",
       "      <td>49331.71</td>\n",
       "    </tr>\n",
       "    <tr>\n",
       "      <th>2017-01-01 06:00:00</th>\n",
       "      <td>48633.39</td>\n",
       "    </tr>\n",
       "  </tbody>\n",
       "</table>\n",
       "</div>"
      ],
      "text/plain": [
       "                     Emisiones\n",
       "Fecha                         \n",
       "2016-12-31 21:00:00   57332.49\n",
       "2016-12-31 22:00:00   56671.33\n",
       "2016-12-31 23:00:00   57666.70\n",
       "2017-01-01 00:00:00   57684.04\n",
       "2017-01-01 01:00:00   56670.97\n",
       "2017-01-01 02:00:00   53940.48\n",
       "2017-01-01 03:00:00   51843.22\n",
       "2017-01-01 04:00:00   50390.88\n",
       "2017-01-01 05:00:00   49331.71\n",
       "2017-01-01 06:00:00   48633.39"
      ]
     },
     "execution_count": 7,
     "metadata": {},
     "output_type": "execute_result"
    }
   ],
   "source": [
    "dataset_by_hour.head(10)"
   ]
  },
  {
   "cell_type": "markdown",
   "metadata": {},
   "source": [
    "## Resample the dataset\n",
    "In this section we will try to resample the dataset in order to obtain the mean of emissions for each month and decompose it to analyze\n",
    "the trend and seasonality"
   ]
  },
  {
   "cell_type": "code",
   "execution_count": 21,
   "metadata": {},
   "outputs": [
    {
     "data": {
      "text/plain": [
       "DatetimeIndex(['2016-12-31 21:00:00', '2016-12-31 22:00:00',\n",
       "               '2016-12-31 23:00:00', '2017-01-01 00:00:00',\n",
       "               '2017-01-01 01:00:00', '2017-01-01 02:00:00',\n",
       "               '2017-01-01 03:00:00', '2017-01-01 04:00:00',\n",
       "               '2017-01-01 05:00:00', '2017-01-01 06:00:00',\n",
       "               ...\n",
       "               '2019-12-31 11:00:00', '2019-12-31 12:00:00',\n",
       "               '2019-12-31 13:00:00', '2019-12-31 14:00:00',\n",
       "               '2019-12-31 15:00:00', '2019-12-31 16:00:00',\n",
       "               '2019-12-31 17:00:00', '2019-12-31 18:00:00',\n",
       "               '2019-12-31 19:00:00', '2019-12-31 20:00:00'],\n",
       "              dtype='datetime64[ns]', name='Fecha', length=26280, freq='H')"
      ]
     },
     "execution_count": 21,
     "metadata": {},
     "output_type": "execute_result"
    }
   ],
   "source": [
    "dataset_by_hour.index"
   ]
  },
  {
   "cell_type": "markdown",
   "metadata": {},
   "source": [
    "If we look the frequency of our dataset, it is set to None, so we will have to infer it in order to resample the dataset"
   ]
  },
  {
   "cell_type": "code",
   "execution_count": 19,
   "metadata": {},
   "outputs": [],
   "source": [
    "# Converts the dataset into a frequency of 1 hour, it doesn't change the data because it already have a frequency of 1 hour\n",
    "dataset_by_hour = dataset_by_hour.asfreq('H')"
   ]
  },
  {
   "cell_type": "markdown",
   "metadata": {},
   "source": [
    "Now we will try to resample the dataset to a monthly frequency and the mean of emissions"
   ]
  },
  {
   "cell_type": "code",
   "execution_count": 22,
   "metadata": {},
   "outputs": [],
   "source": [
    "dataset_by_month = dataset_by_hour['Emisiones'].resample('MS').mean()"
   ]
  },
  {
   "cell_type": "code",
   "execution_count": 23,
   "metadata": {},
   "outputs": [
    {
     "data": {
      "text/plain": [
       "Fecha\n",
       "2016-12-01    57223.506667\n",
       "2017-01-01    61563.583347\n",
       "2017-02-01    46414.701845\n",
       "2017-03-01    29037.953513\n",
       "2017-04-01    24765.413931\n",
       "2017-05-01    38081.439140\n",
       "2017-06-01    50720.670472\n",
       "2017-07-01    49045.904637\n",
       "2017-08-01    39786.750027\n",
       "2017-09-01    40026.869500\n",
       "Freq: MS, Name: Emisiones, dtype: float64"
      ]
     },
     "execution_count": 23,
     "metadata": {},
     "output_type": "execute_result"
    }
   ],
   "source": [
    "dataset_by_month.head(10)"
   ]
  },
  {
   "cell_type": "code",
   "execution_count": 25,
   "metadata": {},
   "outputs": [
    {
     "data": {
      "text/plain": [
       "0"
      ]
     },
     "execution_count": 25,
     "metadata": {},
     "output_type": "execute_result"
    }
   ],
   "source": [
    "# Check if some missing values have been created because of resampling\n",
    "dataset_by_month.isnull().sum()"
   ]
  },
  {
   "cell_type": "code",
   "execution_count": 24,
   "metadata": {},
   "outputs": [
    {
     "data": {
      "image/png": "[encoded data removed]",
      "text/plain": [
       "<Figure size 1080x432 with 1 Axes>"
      ]
     },
     "metadata": {
      "needs_background": "light"
     },
     "output_type": "display_data"
    }
   ],
   "source": [
    "dataset_by_month.plot(figsize=(15, 6))\n",
    "pyplot.show()"
   ]
  },
  {
   "cell_type": "markdown",
   "metadata": {},
   "source": [
    "Looking the data we can form some hypotheses:\n",
    "- It has a decreasing trend, maybe caused by some energy related politics which improve the use of renovables energies through the years\n",
    "- It shows a seasonality pattern, from January to April emissions decrease greatly, then from April to December they increases to the peak but with some decreasing in September or October."
   ]
  },
  {
   "cell_type": "markdown",
   "metadata": {},
   "source": [
    "## Decompose the series"
   ]
  },
  {
   "cell_type": "markdown",
   "metadata": {},
   "source": [
    "Now we will decompose the series into an additive or multiplicative series.\n",
    "\n",
    "**Additive Series:**\n",
    "Value = Base Level + Trend + Seasonality + Error\n",
    "\n",
    "**Multiplicative Series:**\n",
    "Value = Base Level * Trend * Seasonality * Error\n",
    "\n",
    "If our dataset would not have a specific frequency, we would have to add the period parameter"
   ]
  },
  {
   "cell_type": "code",
   "execution_count": 26,
   "metadata": {},
   "outputs": [],
   "source": [
    "# Multiplicative Decomposition\n",
    "result_mul = seasonal_decompose(dataset_by_month, model='multiplicative')\n",
    "# Additive Decomposition\n",
    "result_add = seasonal_decompose(dataset_by_month, model='additive')"
   ]
  },
  {
   "cell_type": "code",
   "execution_count": 30,
   "metadata": {},
   "outputs": [],
   "source": [
    "# Set the figsize\n",
    "rcParams['figure.figsize'] = 11, 9"
   ]
  },
  {
   "cell_type": "code",
   "execution_count": 31,
   "metadata": {},
   "outputs": [
    {
     "data": {
      "image/png": "[encoded data removed]",
      "text/plain": [
       "<Figure size 792x648 with 4 Axes>"
      ]
     },
     "metadata": {
      "needs_background": "light"
     },
     "output_type": "display_data"
    }
   ],
   "source": [
    "# Plot additive decomposition\n",
    "result_add.plot().suptitle('Additive Decompose', fontsize=15)\n",
    "pyplot.show()"
   ]
  },
  {
   "cell_type": "code",
   "execution_count": 32,
   "metadata": {},
   "outputs": [
    {
     "data": {
      "image/png": "[encoded data removed]",
      "text/plain": [
       "<Figure size 792x648 with 4 Axes>"
      ]
     },
     "metadata": {
      "needs_background": "light"
     },
     "output_type": "display_data"
    }
   ],
   "source": [
    "# Plot multiplicative decomposition\n",
    "result_mul.plot().suptitle('Multiplicative Decompose', fontsize=15)\n",
    "pyplot.show()"
   ]
  },
  {
   "cell_type": "markdown",
   "metadata": {},
   "source": [
    "# Prophet model"
   ]
  },
  {
   "cell_type": "code",
   "execution_count": 17,
   "metadata": {},
   "outputs": [],
   "source": [
    "prophet = Prophet()"
   ]
  },
  {
   "cell_type": "code",
   "execution_count": 21,
   "metadata": {},
   "outputs": [],
   "source": [
    "dataset = dataset.rename(columns={\"Fecha\": \"ds\", \"Emisiones\": \"y\"})"
   ]
  },
  {
   "cell_type": "code",
   "execution_count": 22,
   "metadata": {},
   "outputs": [
    {
     "data": {
      "text/html": [
       "<div>\n",
       "<style scoped>\n",
       "    .dataframe tbody tr th:only-of-type {\n",
       "        vertical-align: middle;\n",
       "    }\n",
       "\n",
       "    .dataframe tbody tr th {\n",
       "        vertical-align: top;\n",
       "    }\n",
       "\n",
       "    .dataframe thead th {\n",
       "        text-align: right;\n",
       "    }\n",
       "</style>\n",
       "<table border=\"1\" class=\"dataframe\">\n",
       "  <thead>\n",
       "    <tr style=\"text-align: right;\">\n",
       "      <th></th>\n",
       "      <th>ds</th>\n",
       "      <th>y</th>\n",
       "    </tr>\n",
       "    <tr>\n",
       "      <th>Unnamed: 0</th>\n",
       "      <th></th>\n",
       "      <th></th>\n",
       "    </tr>\n",
       "  </thead>\n",
       "  <tbody>\n",
       "    <tr>\n",
       "      <th>0</th>\n",
       "      <td>2016-12-31 21:00:00</td>\n",
       "      <td>9659.81</td>\n",
       "    </tr>\n",
       "    <tr>\n",
       "      <th>1</th>\n",
       "      <td>2016-12-31 21:10:00</td>\n",
       "      <td>9627.94</td>\n",
       "    </tr>\n",
       "    <tr>\n",
       "      <th>2</th>\n",
       "      <td>2016-12-31 22:30:00</td>\n",
       "      <td>9407.57</td>\n",
       "    </tr>\n",
       "    <tr>\n",
       "      <th>3</th>\n",
       "      <td>2016-12-31 21:20:00</td>\n",
       "      <td>9562.48</td>\n",
       "    </tr>\n",
       "    <tr>\n",
       "      <th>4</th>\n",
       "      <td>2016-12-31 21:30:00</td>\n",
       "      <td>9545.36</td>\n",
       "    </tr>\n",
       "  </tbody>\n",
       "</table>\n",
       "</div>"
      ],
      "text/plain": [
       "                             ds        y\n",
       "Unnamed: 0                              \n",
       "0           2016-12-31 21:00:00  9659.81\n",
       "1           2016-12-31 21:10:00  9627.94\n",
       "2           2016-12-31 22:30:00  9407.57\n",
       "3           2016-12-31 21:20:00  9562.48\n",
       "4           2016-12-31 21:30:00  9545.36"
      ]
     },
     "execution_count": 22,
     "metadata": {},
     "output_type": "execute_result"
    }
   ],
   "source": [
    "dataset.head()"
   ]
  },
  {
   "cell_type": "code",
   "execution_count": null,
   "metadata": {},
   "outputs": [],
   "source": [
    "prophet.fit(dataset)"
   ]
  },
  {
   "cell_type": "code",
   "execution_count": null,
   "metadata": {},
   "outputs": [],
   "source": [
    "future = prophet.make_future_dataframe(periods=365)\n",
    "future.tail()"
   ]
  },
  {
   "cell_type": "code",
   "execution_count": null,
   "metadata": {},
   "outputs": [],
   "source": [
    "forecast = prophet.predict(future)\n",
    "forecast[['ds', 'yhat', 'yhat_lower', 'yhat_upper']].tail()"
   ]
  },
  {
   "cell_type": "code",
   "execution_count": null,
   "metadata": {},
   "outputs": [],
   "source": [
    "fig1 = prophet.plot(forecast)"
   ]
  },
  {
   "cell_type": "code",
   "execution_count": null,
   "metadata": {},
   "outputs": [],
   "source": []
  }
 ],
 "metadata": {
  "kernelspec": {
   "display_name": "CO2_Project_env",
   "language": "python",
   "name": "co2_project_env"
  },
  "language_info": {
   "codemirror_mode": {
    "name": "ipython",
    "version": 3
   },
   "file_extension": ".py",
   "mimetype": "text/x-python",
   "name": "python",
   "nbconvert_exporter": "python",
   "pygments_lexer": "ipython3",
   "version": "3.7.7"
  }
 },
 "nbformat": 4,
 "nbformat_minor": 4
}
