{
 "cells": [
  {
   "cell_type": "code",
   "execution_count": 1,
   "metadata": {},
   "outputs": [],
   "source": [
    "from matplotlib import pyplot\n",
    "import matplotlib\n",
    "import pandas\n",
    "from CO2_data_collector import CO2DataCollector\n",
    "from fbprophet import Prophet\n",
    "from statsmodels.tsa.seasonal import seasonal_decompose\n",
    "import CO2_pre_processing as pre"
   ]
  },
  {
   "cell_type": "markdown",
   "metadata": {},
   "source": [
    "# Collect the data\n",
    "In this section we show how to collect the emissions data for a given time period"
   ]
  },
  {
   "cell_type": "code",
   "execution_count": 3,
   "metadata": {},
   "outputs": [],
   "source": [
    "collector = CO2DataCollector()"
   ]
  },
  {
   "cell_type": "code",
   "execution_count": 4,
   "metadata": {},
   "outputs": [],
   "source": [
    "# Collects the data between two boundaries dates\n",
    "collector.collect_data('2017-01-01', '2020-01-01')"
   ]
  },
  {
   "cell_type": "code",
   "execution_count": 5,
   "metadata": {},
   "outputs": [],
   "source": [
    "# Generates a CSV file with the collected data\n",
    "collector.generate_csv('Emissions_2018-2020.csv')"
   ]
  },
  {
   "cell_type": "markdown",
   "metadata": {},
   "source": [
    "# Data Cleaning\n",
    "In this section we will perform some data cleaning since there are some corrupted data\n",
    "that needs to be cleaned to convert the Fecha's column from string to a datetime object"
   ]
  },
  {
   "cell_type": "code",
   "execution_count": 2,
   "metadata": {},
   "outputs": [],
   "source": [
    "dataset = pandas.read_csv('Emissions_2018-2020.csv')"
   ]
  },
  {
   "cell_type": "code",
   "execution_count": 3,
   "metadata": {},
   "outputs": [
    {
     "name": "stdout",
     "output_type": "stream",
     "text": [
      "<class 'pandas.core.frame.DataFrame'>\n",
      "RangeIndex: 157680 entries, 0 to 157679\n",
      "Data columns (total 3 columns):\n",
      " #   Column      Non-Null Count   Dtype  \n",
      "---  ------      --------------   -----  \n",
      " 0   Unnamed: 0  157680 non-null  int64  \n",
      " 1   Fecha       157680 non-null  object \n",
      " 2   Emisiones   157680 non-null  float64\n",
      "dtypes: float64(1), int64(1), object(1)\n",
      "memory usage: 3.6+ MB\n"
     ]
    }
   ],
   "source": [
    "dataset.info()"
   ]
  },
  {
   "cell_type": "markdown",
   "metadata": {},
   "source": [
    "Is there a problem with the data, on certain dates on the interval from 02 to 03, where there are corrupted hours like the following ones:\n",
    "- 2019-10-27 2A:00\n",
    "- 2019-10-27 2A:10\n",
    "- 2019-10-27 2A:20\n",
    "- 2019-10-27 2A:30\n",
    "- 2019-10-27 2A:40\n",
    "- 2019-10-27 2A:50\n",
    "- 2019-10-27 2B:00\n",
    "- 2019-10-27 2B:10\n",
    "- 2019-10-27 2B:20\n",
    "- 2019-10-27 2B:30\n",
    "- 2019-10-27 2B:40\n",
    "- 2019-10-27 2B:50\n",
    "\n",
    "**Solution:**\n",
    "- Drop rows which contain the letter 'B' in the Fecha's column\n",
    "- In the rows where the date contains the characters 2A, replace these with 02"
   ]
  },
  {
   "cell_type": "code",
   "execution_count": 4,
   "metadata": {},
   "outputs": [
    {
     "data": {
      "text/html": [
       "<div>\n",
       "<style scoped>\n",
       "    .dataframe tbody tr th:only-of-type {\n",
       "        vertical-align: middle;\n",
       "    }\n",
       "\n",
       "    .dataframe tbody tr th {\n",
       "        vertical-align: top;\n",
       "    }\n",
       "\n",
       "    .dataframe thead th {\n",
       "        text-align: right;\n",
       "    }\n",
       "</style>\n",
       "<table border=\"1\" class=\"dataframe\">\n",
       "  <thead>\n",
       "    <tr style=\"text-align: right;\">\n",
       "      <th></th>\n",
       "      <th>Unnamed: 0</th>\n",
       "      <th>Fecha</th>\n",
       "      <th>Emisiones</th>\n",
       "    </tr>\n",
       "  </thead>\n",
       "  <tbody>\n",
       "    <tr>\n",
       "      <th>0</th>\n",
       "      <td>0</td>\n",
       "      <td>2016-12-31 21:00</td>\n",
       "      <td>9659.81</td>\n",
       "    </tr>\n",
       "    <tr>\n",
       "      <th>1</th>\n",
       "      <td>1</td>\n",
       "      <td>2016-12-31 21:10</td>\n",
       "      <td>9627.94</td>\n",
       "    </tr>\n",
       "    <tr>\n",
       "      <th>2</th>\n",
       "      <td>2</td>\n",
       "      <td>2016-12-31 22:30</td>\n",
       "      <td>9407.57</td>\n",
       "    </tr>\n",
       "    <tr>\n",
       "      <th>3</th>\n",
       "      <td>3</td>\n",
       "      <td>2016-12-31 21:20</td>\n",
       "      <td>9562.48</td>\n",
       "    </tr>\n",
       "    <tr>\n",
       "      <th>4</th>\n",
       "      <td>4</td>\n",
       "      <td>2016-12-31 21:30</td>\n",
       "      <td>9545.36</td>\n",
       "    </tr>\n",
       "  </tbody>\n",
       "</table>\n",
       "</div>"
      ],
      "text/plain": [
       "   Unnamed: 0             Fecha  Emisiones\n",
       "0           0  2016-12-31 21:00    9659.81\n",
       "1           1  2016-12-31 21:10    9627.94\n",
       "2           2  2016-12-31 22:30    9407.57\n",
       "3           3  2016-12-31 21:20    9562.48\n",
       "4           4  2016-12-31 21:30    9545.36"
      ]
     },
     "execution_count": 4,
     "metadata": {},
     "output_type": "execute_result"
    }
   ],
   "source": [
    "dataset.head()"
   ]
  },
  {
   "cell_type": "code",
   "execution_count": 5,
   "metadata": {},
   "outputs": [],
   "source": [
    "# Drop the Unnamed: 0 column\n",
    "if 'Unnamed: 0' in dataset.columns:\n",
    "    dataset = dataset.drop(['Unnamed: 0'], axis=1)"
   ]
  },
  {
   "cell_type": "code",
   "execution_count": 6,
   "metadata": {},
   "outputs": [],
   "source": [
    "# Replace dates with 2A by 02\n",
    "dataset['Fecha'] = dataset['Fecha'].str.replace('2A', '02')\n",
    "# Use the NOT simbol (~) to return the dataset without these rows\n",
    "dataset = dataset[~dataset.Fecha.str.contains(\"2B\")]"
   ]
  },
  {
   "cell_type": "code",
   "execution_count": 7,
   "metadata": {},
   "outputs": [
    {
     "data": {
      "text/html": [
       "<div>\n",
       "<style scoped>\n",
       "    .dataframe tbody tr th:only-of-type {\n",
       "        vertical-align: middle;\n",
       "    }\n",
       "\n",
       "    .dataframe tbody tr th {\n",
       "        vertical-align: top;\n",
       "    }\n",
       "\n",
       "    .dataframe thead th {\n",
       "        text-align: right;\n",
       "    }\n",
       "</style>\n",
       "<table border=\"1\" class=\"dataframe\">\n",
       "  <thead>\n",
       "    <tr style=\"text-align: right;\">\n",
       "      <th></th>\n",
       "      <th>Fecha</th>\n",
       "      <th>Emisiones</th>\n",
       "    </tr>\n",
       "  </thead>\n",
       "  <tbody>\n",
       "    <tr>\n",
       "      <th>0</th>\n",
       "      <td>2016-12-31 21:00</td>\n",
       "      <td>9659.81</td>\n",
       "    </tr>\n",
       "    <tr>\n",
       "      <th>1</th>\n",
       "      <td>2016-12-31 21:10</td>\n",
       "      <td>9627.94</td>\n",
       "    </tr>\n",
       "    <tr>\n",
       "      <th>2</th>\n",
       "      <td>2016-12-31 22:30</td>\n",
       "      <td>9407.57</td>\n",
       "    </tr>\n",
       "    <tr>\n",
       "      <th>3</th>\n",
       "      <td>2016-12-31 21:20</td>\n",
       "      <td>9562.48</td>\n",
       "    </tr>\n",
       "    <tr>\n",
       "      <th>4</th>\n",
       "      <td>2016-12-31 21:30</td>\n",
       "      <td>9545.36</td>\n",
       "    </tr>\n",
       "    <tr>\n",
       "      <th>5</th>\n",
       "      <td>2016-12-31 21:50</td>\n",
       "      <td>9442.41</td>\n",
       "    </tr>\n",
       "    <tr>\n",
       "      <th>6</th>\n",
       "      <td>2016-12-31 22:10</td>\n",
       "      <td>9514.21</td>\n",
       "    </tr>\n",
       "    <tr>\n",
       "      <th>7</th>\n",
       "      <td>2016-12-31 21:40</td>\n",
       "      <td>9494.49</td>\n",
       "    </tr>\n",
       "    <tr>\n",
       "      <th>8</th>\n",
       "      <td>2016-12-31 22:20</td>\n",
       "      <td>9448.20</td>\n",
       "    </tr>\n",
       "    <tr>\n",
       "      <th>9</th>\n",
       "      <td>2016-12-31 22:00</td>\n",
       "      <td>9420.89</td>\n",
       "    </tr>\n",
       "  </tbody>\n",
       "</table>\n",
       "</div>"
      ],
      "text/plain": [
       "              Fecha  Emisiones\n",
       "0  2016-12-31 21:00    9659.81\n",
       "1  2016-12-31 21:10    9627.94\n",
       "2  2016-12-31 22:30    9407.57\n",
       "3  2016-12-31 21:20    9562.48\n",
       "4  2016-12-31 21:30    9545.36\n",
       "5  2016-12-31 21:50    9442.41\n",
       "6  2016-12-31 22:10    9514.21\n",
       "7  2016-12-31 21:40    9494.49\n",
       "8  2016-12-31 22:20    9448.20\n",
       "9  2016-12-31 22:00    9420.89"
      ]
     },
     "execution_count": 7,
     "metadata": {},
     "output_type": "execute_result"
    }
   ],
   "source": [
    "dataset.head(10)"
   ]
  },
  {
   "cell_type": "markdown",
   "metadata": {},
   "source": [
    "As we can see the dataset is unordered, so in order to sort it we must perform the following tasks:\n",
    "- Convert the Datetime column 'Fecha' to a datetime object\n",
    "- Set the Datetime column as the Index\n",
    "- Sort the dataset by index"
   ]
  },
  {
   "cell_type": "code",
   "execution_count": 8,
   "metadata": {},
   "outputs": [],
   "source": [
    "# Converts 'Fecha' to datetime object\n",
    "dataset['Fecha'] = pandas.to_datetime(dataset['Fecha'])\n",
    "# Sets the 'Fecha' column as index\n",
    "dataset = dataset.set_index('Fecha')\n",
    "# Sort the dataset by index\n",
    "dataset = dataset.sort_index()"
   ]
  },
  {
   "cell_type": "code",
   "execution_count": 9,
   "metadata": {},
   "outputs": [
    {
     "data": {
      "text/html": [
       "<div>\n",
       "<style scoped>\n",
       "    .dataframe tbody tr th:only-of-type {\n",
       "        vertical-align: middle;\n",
       "    }\n",
       "\n",
       "    .dataframe tbody tr th {\n",
       "        vertical-align: top;\n",
       "    }\n",
       "\n",
       "    .dataframe thead th {\n",
       "        text-align: right;\n",
       "    }\n",
       "</style>\n",
       "<table border=\"1\" class=\"dataframe\">\n",
       "  <thead>\n",
       "    <tr style=\"text-align: right;\">\n",
       "      <th></th>\n",
       "      <th>Emisiones</th>\n",
       "    </tr>\n",
       "    <tr>\n",
       "      <th>Fecha</th>\n",
       "      <th></th>\n",
       "    </tr>\n",
       "  </thead>\n",
       "  <tbody>\n",
       "    <tr>\n",
       "      <th>2016-12-31 21:00:00</th>\n",
       "      <td>9659.81</td>\n",
       "    </tr>\n",
       "    <tr>\n",
       "      <th>2016-12-31 21:10:00</th>\n",
       "      <td>9627.94</td>\n",
       "    </tr>\n",
       "    <tr>\n",
       "      <th>2016-12-31 21:20:00</th>\n",
       "      <td>9562.48</td>\n",
       "    </tr>\n",
       "    <tr>\n",
       "      <th>2016-12-31 21:30:00</th>\n",
       "      <td>9545.36</td>\n",
       "    </tr>\n",
       "    <tr>\n",
       "      <th>2016-12-31 21:40:00</th>\n",
       "      <td>9494.49</td>\n",
       "    </tr>\n",
       "  </tbody>\n",
       "</table>\n",
       "</div>"
      ],
      "text/plain": [
       "                     Emisiones\n",
       "Fecha                         \n",
       "2016-12-31 21:00:00    9659.81\n",
       "2016-12-31 21:10:00    9627.94\n",
       "2016-12-31 21:20:00    9562.48\n",
       "2016-12-31 21:30:00    9545.36\n",
       "2016-12-31 21:40:00    9494.49"
      ]
     },
     "execution_count": 9,
     "metadata": {},
     "output_type": "execute_result"
    }
   ],
   "source": [
    "dataset.head()"
   ]
  },
  {
   "cell_type": "markdown",
   "metadata": {},
   "source": [
    "## Creation of alternative dataset\n",
    "We will create an alternative dataset where the difference between timestamps is one hour, so the emissions will be grouped by hours"
   ]
  },
  {
   "cell_type": "code",
   "execution_count": 10,
   "metadata": {},
   "outputs": [],
   "source": [
    "# Cretes the new dataset\n",
    "dataset_freq_1hour = pre.create_dataset_timefreq_1hour(dataset)"
   ]
  },
  {
   "cell_type": "code",
   "execution_count": 11,
   "metadata": {},
   "outputs": [
    {
     "data": {
      "text/html": [
       "<div>\n",
       "<style scoped>\n",
       "    .dataframe tbody tr th:only-of-type {\n",
       "        vertical-align: middle;\n",
       "    }\n",
       "\n",
       "    .dataframe tbody tr th {\n",
       "        vertical-align: top;\n",
       "    }\n",
       "\n",
       "    .dataframe thead th {\n",
       "        text-align: right;\n",
       "    }\n",
       "</style>\n",
       "<table border=\"1\" class=\"dataframe\">\n",
       "  <thead>\n",
       "    <tr style=\"text-align: right;\">\n",
       "      <th></th>\n",
       "      <th>Fecha</th>\n",
       "      <th>Emisiones</th>\n",
       "    </tr>\n",
       "  </thead>\n",
       "  <tbody>\n",
       "    <tr>\n",
       "      <th>0</th>\n",
       "      <td>2016-12-31 21:00:00</td>\n",
       "      <td>57332.49</td>\n",
       "    </tr>\n",
       "    <tr>\n",
       "      <th>1</th>\n",
       "      <td>2016-12-31 22:00:00</td>\n",
       "      <td>56671.33</td>\n",
       "    </tr>\n",
       "    <tr>\n",
       "      <th>2</th>\n",
       "      <td>2016-12-31 23:00:00</td>\n",
       "      <td>57666.70</td>\n",
       "    </tr>\n",
       "    <tr>\n",
       "      <th>3</th>\n",
       "      <td>2017-01-01 00:00:00</td>\n",
       "      <td>57684.04</td>\n",
       "    </tr>\n",
       "    <tr>\n",
       "      <th>4</th>\n",
       "      <td>2017-01-01 01:00:00</td>\n",
       "      <td>56670.97</td>\n",
       "    </tr>\n",
       "    <tr>\n",
       "      <th>5</th>\n",
       "      <td>2017-01-01 02:00:00</td>\n",
       "      <td>53940.48</td>\n",
       "    </tr>\n",
       "    <tr>\n",
       "      <th>6</th>\n",
       "      <td>2017-01-01 03:00:00</td>\n",
       "      <td>51843.22</td>\n",
       "    </tr>\n",
       "    <tr>\n",
       "      <th>7</th>\n",
       "      <td>2017-01-01 04:00:00</td>\n",
       "      <td>50390.88</td>\n",
       "    </tr>\n",
       "    <tr>\n",
       "      <th>8</th>\n",
       "      <td>2017-01-01 05:00:00</td>\n",
       "      <td>49331.71</td>\n",
       "    </tr>\n",
       "    <tr>\n",
       "      <th>9</th>\n",
       "      <td>2017-01-01 06:00:00</td>\n",
       "      <td>48633.39</td>\n",
       "    </tr>\n",
       "  </tbody>\n",
       "</table>\n",
       "</div>"
      ],
      "text/plain": [
       "                Fecha  Emisiones\n",
       "0 2016-12-31 21:00:00   57332.49\n",
       "1 2016-12-31 22:00:00   56671.33\n",
       "2 2016-12-31 23:00:00   57666.70\n",
       "3 2017-01-01 00:00:00   57684.04\n",
       "4 2017-01-01 01:00:00   56670.97\n",
       "5 2017-01-01 02:00:00   53940.48\n",
       "6 2017-01-01 03:00:00   51843.22\n",
       "7 2017-01-01 04:00:00   50390.88\n",
       "8 2017-01-01 05:00:00   49331.71\n",
       "9 2017-01-01 06:00:00   48633.39"
      ]
     },
     "execution_count": 11,
     "metadata": {},
     "output_type": "execute_result"
    }
   ],
   "source": [
    "dataset_freq_1hour.head(10)"
   ]
  },
  {
   "cell_type": "markdown",
   "metadata": {},
   "source": [
    "## CSV Creation\n",
    "Now we will create two csv files to store the cleaned dataset. In the first dataset, the difference between timestamps is one hour, while in the second the difference is ten minutes"
   ]
  },
  {
   "cell_type": "code",
   "execution_count": 17,
   "metadata": {},
   "outputs": [
    {
     "data": {
      "text/html": [
       "<div>\n",
       "<style scoped>\n",
       "    .dataframe tbody tr th:only-of-type {\n",
       "        vertical-align: middle;\n",
       "    }\n",
       "\n",
       "    .dataframe tbody tr th {\n",
       "        vertical-align: top;\n",
       "    }\n",
       "\n",
       "    .dataframe thead th {\n",
       "        text-align: right;\n",
       "    }\n",
       "</style>\n",
       "<table border=\"1\" class=\"dataframe\">\n",
       "  <thead>\n",
       "    <tr style=\"text-align: right;\">\n",
       "      <th></th>\n",
       "      <th>Emisiones</th>\n",
       "    </tr>\n",
       "    <tr>\n",
       "      <th>Fecha</th>\n",
       "      <th></th>\n",
       "    </tr>\n",
       "  </thead>\n",
       "  <tbody>\n",
       "    <tr>\n",
       "      <th>2016-12-31 21:00:00</th>\n",
       "      <td>9659.81</td>\n",
       "    </tr>\n",
       "    <tr>\n",
       "      <th>2016-12-31 21:10:00</th>\n",
       "      <td>9627.94</td>\n",
       "    </tr>\n",
       "    <tr>\n",
       "      <th>2016-12-31 21:20:00</th>\n",
       "      <td>9562.48</td>\n",
       "    </tr>\n",
       "    <tr>\n",
       "      <th>2016-12-31 21:30:00</th>\n",
       "      <td>9545.36</td>\n",
       "    </tr>\n",
       "    <tr>\n",
       "      <th>2016-12-31 21:40:00</th>\n",
       "      <td>9494.49</td>\n",
       "    </tr>\n",
       "  </tbody>\n",
       "</table>\n",
       "</div>"
      ],
      "text/plain": [
       "                     Emisiones\n",
       "Fecha                         \n",
       "2016-12-31 21:00:00    9659.81\n",
       "2016-12-31 21:10:00    9627.94\n",
       "2016-12-31 21:20:00    9562.48\n",
       "2016-12-31 21:30:00    9545.36\n",
       "2016-12-31 21:40:00    9494.49"
      ]
     },
     "execution_count": 17,
     "metadata": {},
     "output_type": "execute_result"
    }
   ],
   "source": [
    "dataset.head()"
   ]
  },
  {
   "cell_type": "markdown",
   "metadata": {},
   "source": [
    "**Creates 1 hour difference CSV**"
   ]
  },
  {
   "cell_type": "code",
   "execution_count": 13,
   "metadata": {},
   "outputs": [],
   "source": [
    "# Creates a new CSV with no data errors and ordered rows by date\n",
    "dataset_freq_1hour.to_csv(\"2017-2020_Emissions_by_hour_Clean.csv\", index=False)"
   ]
  },
  {
   "cell_type": "markdown",
   "metadata": {},
   "source": [
    "**Creates 10 minutes difference CSV**"
   ]
  },
  {
   "cell_type": "code",
   "execution_count": 14,
   "metadata": {},
   "outputs": [],
   "source": [
    "# Creates a new CSV with no data errors and ordered rows by date\n",
    "dataset.to_csv(\"2017-2020_Emissions_by_10_minutes_Clean.csv\")"
   ]
  },
  {
   "cell_type": "markdown",
   "metadata": {},
   "source": [
    "# Data Analysis"
   ]
  },
  {
   "cell_type": "code",
   "execution_count": 20,
   "metadata": {},
   "outputs": [],
   "source": [
    "# Read both csv files\n",
    "dataset_by_10_minutes = pandas.read_csv('2017-2020_Emissions_by_10_minutes_Clean.csv')\n",
    "dataset_by_hour = pandas.read_csv('2017-2020_Emissions_by_hour_Clean.csv')"
   ]
  },
  {
   "cell_type": "markdown",
   "metadata": {},
   "source": [
    "CSV files cannot cannot save datetime objects and saves the rows unordered, so each time we read a CSV file, we must\n",
    "to perform the following tasks:\n",
    "- Convert 'Fecha' column to datetime object\n",
    "- Set 'Fecha' column as the new index\n",
    "- Sort the dataset by DateTime Index"
   ]
  },
  {
   "cell_type": "code",
   "execution_count": 21,
   "metadata": {},
   "outputs": [
    {
     "data": {
      "text/html": [
       "<div>\n",
       "<style scoped>\n",
       "    .dataframe tbody tr th:only-of-type {\n",
       "        vertical-align: middle;\n",
       "    }\n",
       "\n",
       "    .dataframe tbody tr th {\n",
       "        vertical-align: top;\n",
       "    }\n",
       "\n",
       "    .dataframe thead th {\n",
       "        text-align: right;\n",
       "    }\n",
       "</style>\n",
       "<table border=\"1\" class=\"dataframe\">\n",
       "  <thead>\n",
       "    <tr style=\"text-align: right;\">\n",
       "      <th></th>\n",
       "      <th>Fecha</th>\n",
       "      <th>Emisiones</th>\n",
       "    </tr>\n",
       "  </thead>\n",
       "  <tbody>\n",
       "    <tr>\n",
       "      <th>0</th>\n",
       "      <td>2016-12-31 21:00:00</td>\n",
       "      <td>9659.81</td>\n",
       "    </tr>\n",
       "    <tr>\n",
       "      <th>1</th>\n",
       "      <td>2016-12-31 21:10:00</td>\n",
       "      <td>9627.94</td>\n",
       "    </tr>\n",
       "    <tr>\n",
       "      <th>2</th>\n",
       "      <td>2016-12-31 21:20:00</td>\n",
       "      <td>9562.48</td>\n",
       "    </tr>\n",
       "    <tr>\n",
       "      <th>3</th>\n",
       "      <td>2016-12-31 21:30:00</td>\n",
       "      <td>9545.36</td>\n",
       "    </tr>\n",
       "    <tr>\n",
       "      <th>4</th>\n",
       "      <td>2016-12-31 21:40:00</td>\n",
       "      <td>9494.49</td>\n",
       "    </tr>\n",
       "  </tbody>\n",
       "</table>\n",
       "</div>"
      ],
      "text/plain": [
       "                 Fecha  Emisiones\n",
       "0  2016-12-31 21:00:00    9659.81\n",
       "1  2016-12-31 21:10:00    9627.94\n",
       "2  2016-12-31 21:20:00    9562.48\n",
       "3  2016-12-31 21:30:00    9545.36\n",
       "4  2016-12-31 21:40:00    9494.49"
      ]
     },
     "execution_count": 21,
     "metadata": {},
     "output_type": "execute_result"
    }
   ],
   "source": [
    "dataset_by_10_minutes.head()"
   ]
  },
  {
   "cell_type": "code",
   "execution_count": 22,
   "metadata": {},
   "outputs": [],
   "source": [
    "# This function perform the tasks above\n",
    "dataset_by_10_minutes = pre.prepare_timeseries_dataset(dataset_by_10_minutes, 0)\n",
    "dataset_by_hour = pre.prepare_timeseries_dataset(dataset_by_hour, 0)"
   ]
  },
  {
   "cell_type": "code",
   "execution_count": 23,
   "metadata": {},
   "outputs": [
    {
     "data": {
      "text/html": [
       "<div>\n",
       "<style scoped>\n",
       "    .dataframe tbody tr th:only-of-type {\n",
       "        vertical-align: middle;\n",
       "    }\n",
       "\n",
       "    .dataframe tbody tr th {\n",
       "        vertical-align: top;\n",
       "    }\n",
       "\n",
       "    .dataframe thead th {\n",
       "        text-align: right;\n",
       "    }\n",
       "</style>\n",
       "<table border=\"1\" class=\"dataframe\">\n",
       "  <thead>\n",
       "    <tr style=\"text-align: right;\">\n",
       "      <th></th>\n",
       "      <th>Emisiones</th>\n",
       "    </tr>\n",
       "    <tr>\n",
       "      <th>Fecha</th>\n",
       "      <th></th>\n",
       "    </tr>\n",
       "  </thead>\n",
       "  <tbody>\n",
       "    <tr>\n",
       "      <th>2016-12-31 21:00:00</th>\n",
       "      <td>9659.81</td>\n",
       "    </tr>\n",
       "    <tr>\n",
       "      <th>2016-12-31 21:10:00</th>\n",
       "      <td>9627.94</td>\n",
       "    </tr>\n",
       "    <tr>\n",
       "      <th>2016-12-31 21:20:00</th>\n",
       "      <td>9562.48</td>\n",
       "    </tr>\n",
       "    <tr>\n",
       "      <th>2016-12-31 21:30:00</th>\n",
       "      <td>9545.36</td>\n",
       "    </tr>\n",
       "    <tr>\n",
       "      <th>2016-12-31 21:40:00</th>\n",
       "      <td>9494.49</td>\n",
       "    </tr>\n",
       "    <tr>\n",
       "      <th>2016-12-31 21:50:00</th>\n",
       "      <td>9442.41</td>\n",
       "    </tr>\n",
       "    <tr>\n",
       "      <th>2016-12-31 22:00:00</th>\n",
       "      <td>9420.89</td>\n",
       "    </tr>\n",
       "    <tr>\n",
       "      <th>2016-12-31 22:10:00</th>\n",
       "      <td>9514.21</td>\n",
       "    </tr>\n",
       "    <tr>\n",
       "      <th>2016-12-31 22:20:00</th>\n",
       "      <td>9448.20</td>\n",
       "    </tr>\n",
       "    <tr>\n",
       "      <th>2016-12-31 22:30:00</th>\n",
       "      <td>9407.57</td>\n",
       "    </tr>\n",
       "  </tbody>\n",
       "</table>\n",
       "</div>"
      ],
      "text/plain": [
       "                     Emisiones\n",
       "Fecha                         \n",
       "2016-12-31 21:00:00    9659.81\n",
       "2016-12-31 21:10:00    9627.94\n",
       "2016-12-31 21:20:00    9562.48\n",
       "2016-12-31 21:30:00    9545.36\n",
       "2016-12-31 21:40:00    9494.49\n",
       "2016-12-31 21:50:00    9442.41\n",
       "2016-12-31 22:00:00    9420.89\n",
       "2016-12-31 22:10:00    9514.21\n",
       "2016-12-31 22:20:00    9448.20\n",
       "2016-12-31 22:30:00    9407.57"
      ]
     },
     "execution_count": 23,
     "metadata": {},
     "output_type": "execute_result"
    }
   ],
   "source": [
    "dataset_by_10_minutes.head(10)"
   ]
  },
  {
   "cell_type": "code",
   "execution_count": 24,
   "metadata": {},
   "outputs": [
    {
     "data": {
      "text/html": [
       "<div>\n",
       "<style scoped>\n",
       "    .dataframe tbody tr th:only-of-type {\n",
       "        vertical-align: middle;\n",
       "    }\n",
       "\n",
       "    .dataframe tbody tr th {\n",
       "        vertical-align: top;\n",
       "    }\n",
       "\n",
       "    .dataframe thead th {\n",
       "        text-align: right;\n",
       "    }\n",
       "</style>\n",
       "<table border=\"1\" class=\"dataframe\">\n",
       "  <thead>\n",
       "    <tr style=\"text-align: right;\">\n",
       "      <th></th>\n",
       "      <th>Emisiones</th>\n",
       "    </tr>\n",
       "    <tr>\n",
       "      <th>Fecha</th>\n",
       "      <th></th>\n",
       "    </tr>\n",
       "  </thead>\n",
       "  <tbody>\n",
       "    <tr>\n",
       "      <th>2016-12-31 21:00:00</th>\n",
       "      <td>57332.49</td>\n",
       "    </tr>\n",
       "    <tr>\n",
       "      <th>2016-12-31 22:00:00</th>\n",
       "      <td>56671.33</td>\n",
       "    </tr>\n",
       "    <tr>\n",
       "      <th>2016-12-31 23:00:00</th>\n",
       "      <td>57666.70</td>\n",
       "    </tr>\n",
       "    <tr>\n",
       "      <th>2017-01-01 00:00:00</th>\n",
       "      <td>57684.04</td>\n",
       "    </tr>\n",
       "    <tr>\n",
       "      <th>2017-01-01 01:00:00</th>\n",
       "      <td>56670.97</td>\n",
       "    </tr>\n",
       "    <tr>\n",
       "      <th>2017-01-01 02:00:00</th>\n",
       "      <td>53940.48</td>\n",
       "    </tr>\n",
       "    <tr>\n",
       "      <th>2017-01-01 03:00:00</th>\n",
       "      <td>51843.22</td>\n",
       "    </tr>\n",
       "    <tr>\n",
       "      <th>2017-01-01 04:00:00</th>\n",
       "      <td>50390.88</td>\n",
       "    </tr>\n",
       "    <tr>\n",
       "      <th>2017-01-01 05:00:00</th>\n",
       "      <td>49331.71</td>\n",
       "    </tr>\n",
       "    <tr>\n",
       "      <th>2017-01-01 06:00:00</th>\n",
       "      <td>48633.39</td>\n",
       "    </tr>\n",
       "  </tbody>\n",
       "</table>\n",
       "</div>"
      ],
      "text/plain": [
       "                     Emisiones\n",
       "Fecha                         \n",
       "2016-12-31 21:00:00   57332.49\n",
       "2016-12-31 22:00:00   56671.33\n",
       "2016-12-31 23:00:00   57666.70\n",
       "2017-01-01 00:00:00   57684.04\n",
       "2017-01-01 01:00:00   56670.97\n",
       "2017-01-01 02:00:00   53940.48\n",
       "2017-01-01 03:00:00   51843.22\n",
       "2017-01-01 04:00:00   50390.88\n",
       "2017-01-01 05:00:00   49331.71\n",
       "2017-01-01 06:00:00   48633.39"
      ]
     },
     "execution_count": 24,
     "metadata": {},
     "output_type": "execute_result"
    }
   ],
   "source": [
    "dataset_by_hour.head(10)"
   ]
  },
  {
   "cell_type": "code",
   "execution_count": 25,
   "metadata": {},
   "outputs": [
    {
     "data": {
      "image/png": "[encoded data removed]",
      "text/plain": [
       "<Figure size 1080x432 with 1 Axes>"
      ]
     },
     "metadata": {
      "needs_background": "light"
     },
     "output_type": "display_data"
    }
   ],
   "source": [
    "dataset_by_hour.plot(figsize=(15, 6))\n",
    "pyplot.show()"
   ]
  },
  {
   "cell_type": "markdown",
   "metadata": {},
   "source": [
    "The seasonality must be deep analysed because the emissions could be affected by the laws of Spain, the government may have created some laws to increase\n",
    "the renovable energies, so due to that the data could be different in years"
   ]
  },
  {
   "cell_type": "markdown",
   "metadata": {},
   "source": [
    "## Decompose the series"
   ]
  },
  {
   "cell_type": "markdown",
   "metadata": {},
   "source": [
    "Now we will decompose the series into an additive or multiplicative series.\n",
    "\n",
    "**Additive Series:**\n",
    "Value = Base Level + Trend + Seasonality + Error\n",
    "\n",
    "**Multiplicative Series:**\n",
    "Value = Base Level * Trend * Seasonality * Error"
   ]
  },
  {
   "cell_type": "code",
   "execution_count": 26,
   "metadata": {},
   "outputs": [],
   "source": [
    "# Period parameter is used in both results due to it cannot detect the frequency of the timeseries Index\n",
    "# Multiplicative Decomposition\n",
    "result_mul = seasonal_decompose(dataset_by_hour, model='multiplicative', period= 10)\n",
    "# Additive Decomposition\n",
    "result_add = seasonal_decompose(dataset_by_hour, model='additive', period= 10)"
   ]
  },
  {
   "cell_type": "code",
   "execution_count": 27,
   "metadata": {},
   "outputs": [
    {
     "data": {
      "image/png": "[encoded data removed]",
      "text/plain": [
       "<Figure size 432x288 with 4 Axes>"
      ]
     },
     "metadata": {
      "needs_background": "light"
     },
     "output_type": "display_data"
    }
   ],
   "source": [
    "# Plot additive decomposition\n",
    "result_add.plot().suptitle('Multiplicative Decompose', fontsize=15)\n",
    "pyplot.show()"
   ]
  },
  {
   "cell_type": "code",
   "execution_count": 28,
   "metadata": {},
   "outputs": [
    {
     "data": {
      "image/png": "[encoded data removed]",
      "text/plain": [
       "<Figure size 432x288 with 4 Axes>"
      ]
     },
     "metadata": {
      "needs_background": "light"
     },
     "output_type": "display_data"
    }
   ],
   "source": [
    "# Plot multiplicative decomposition\n",
    "result_mul.plot().suptitle('Multiplicative Decompose', fontsize=15)\n",
    "pyplot.show()"
   ]
  },
  {
   "cell_type": "markdown",
   "metadata": {},
   "source": [
    "# Prophet model"
   ]
  },
  {
   "cell_type": "code",
   "execution_count": 17,
   "metadata": {},
   "outputs": [],
   "source": [
    "prophet = Prophet()"
   ]
  },
  {
   "cell_type": "code",
   "execution_count": 21,
   "metadata": {},
   "outputs": [],
   "source": [
    "dataset = dataset.rename(columns={\"Fecha\": \"ds\", \"Emisiones\": \"y\"})"
   ]
  },
  {
   "cell_type": "code",
   "execution_count": 22,
   "metadata": {},
   "outputs": [
    {
     "data": {
      "text/html": [
       "<div>\n",
       "<style scoped>\n",
       "    .dataframe tbody tr th:only-of-type {\n",
       "        vertical-align: middle;\n",
       "    }\n",
       "\n",
       "    .dataframe tbody tr th {\n",
       "        vertical-align: top;\n",
       "    }\n",
       "\n",
       "    .dataframe thead th {\n",
       "        text-align: right;\n",
       "    }\n",
       "</style>\n",
       "<table border=\"1\" class=\"dataframe\">\n",
       "  <thead>\n",
       "    <tr style=\"text-align: right;\">\n",
       "      <th></th>\n",
       "      <th>ds</th>\n",
       "      <th>y</th>\n",
       "    </tr>\n",
       "    <tr>\n",
       "      <th>Unnamed: 0</th>\n",
       "      <th></th>\n",
       "      <th></th>\n",
       "    </tr>\n",
       "  </thead>\n",
       "  <tbody>\n",
       "    <tr>\n",
       "      <th>0</th>\n",
       "      <td>2016-12-31 21:00:00</td>\n",
       "      <td>9659.81</td>\n",
       "    </tr>\n",
       "    <tr>\n",
       "      <th>1</th>\n",
       "      <td>2016-12-31 21:10:00</td>\n",
       "      <td>9627.94</td>\n",
       "    </tr>\n",
       "    <tr>\n",
       "      <th>2</th>\n",
       "      <td>2016-12-31 22:30:00</td>\n",
       "      <td>9407.57</td>\n",
       "    </tr>\n",
       "    <tr>\n",
       "      <th>3</th>\n",
       "      <td>2016-12-31 21:20:00</td>\n",
       "      <td>9562.48</td>\n",
       "    </tr>\n",
       "    <tr>\n",
       "      <th>4</th>\n",
       "      <td>2016-12-31 21:30:00</td>\n",
       "      <td>9545.36</td>\n",
       "    </tr>\n",
       "  </tbody>\n",
       "</table>\n",
       "</div>"
      ],
      "text/plain": [
       "                             ds        y\n",
       "Unnamed: 0                              \n",
       "0           2016-12-31 21:00:00  9659.81\n",
       "1           2016-12-31 21:10:00  9627.94\n",
       "2           2016-12-31 22:30:00  9407.57\n",
       "3           2016-12-31 21:20:00  9562.48\n",
       "4           2016-12-31 21:30:00  9545.36"
      ]
     },
     "execution_count": 22,
     "metadata": {},
     "output_type": "execute_result"
    }
   ],
   "source": [
    "dataset.head()"
   ]
  },
  {
   "cell_type": "code",
   "execution_count": null,
   "metadata": {},
   "outputs": [],
   "source": [
    "prophet.fit(dataset)"
   ]
  },
  {
   "cell_type": "code",
   "execution_count": null,
   "metadata": {},
   "outputs": [],
   "source": [
    "future = prophet.make_future_dataframe(periods=365)\n",
    "future.tail()"
   ]
  },
  {
   "cell_type": "code",
   "execution_count": null,
   "metadata": {},
   "outputs": [],
   "source": [
    "forecast = prophet.predict(future)\n",
    "forecast[['ds', 'yhat', 'yhat_lower', 'yhat_upper']].tail()"
   ]
  },
  {
   "cell_type": "code",
   "execution_count": null,
   "metadata": {},
   "outputs": [],
   "source": [
    "fig1 = prophet.plot(forecast)"
   ]
  },
  {
   "cell_type": "code",
   "execution_count": null,
   "metadata": {},
   "outputs": [],
   "source": []
  }
 ],
 "metadata": {
  "kernelspec": {
   "display_name": "CO2_Project_env",
   "language": "python",
   "name": "co2_project_env"
  },
  "language_info": {
   "codemirror_mode": {
    "name": "ipython",
    "version": 3
   },
   "file_extension": ".py",
   "mimetype": "text/x-python",
   "name": "python",
   "nbconvert_exporter": "python",
   "pygments_lexer": "ipython3",
   "version": "3.7.7"
  }
 },
 "nbformat": 4,
 "nbformat_minor": 4
}
